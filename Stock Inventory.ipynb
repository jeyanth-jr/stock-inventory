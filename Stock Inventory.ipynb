{
 "cells": [
  {
   "cell_type": "code",
   "execution_count": 1,
   "metadata": {},
   "outputs": [],
   "source": [
    "from pandas import DataFrame as df \n"
   ]
  },
  {
   "cell_type": "code",
   "execution_count": 2,
   "metadata": {},
   "outputs": [],
   "source": [
    "a = {'itemname':['soap'],'itemcode':[1],'item-type':['beauty'],'stock':[22]}\n",
    "stock=df(a)a\n"
   ]
  },
  {
   "cell_type": "code",
   "execution_count": 3,
   "metadata": {},
   "outputs": [
    {
     "name": "stdout",
     "output_type": "stream",
     "text": [
      "---------------------------------\n",
      "|             menu              |\n",
      "|-------------------------------|\n",
      "|1..................FIND A STOCK|\n",
      "|2................LIST ALL STOCK|\n",
      "|3.................ADD NEW STOCK|\n",
      "|                               |\n",
      "---------------------------------\n"
     ]
    }
   ],
   "source": [
    "print(\"---------------------------------\")\n",
    "print(\"|             menu              |\")\n",
    "print(\"|-------------------------------|\")\n",
    "print(\"|1..................FIND A STOCK|\")\n",
    "print(\"|2................LIST ALL STOCK|\")\n",
    "print(\"|3.................ADD NEW STOCK|\")\n",
    "print(\"|                               |\")\n",
    "print(\"---------------------------------\")\n"
   ]
  },
  {
   "cell_type": "code",
   "execution_count": 4,
   "metadata": {},
   "outputs": [
    {
     "name": "stdout",
     "output_type": "stream",
     "text": [
      "write the name of the productsopa\n",
      "Empty DataFrame\n",
      "Columns: [itemname, itemcode, item-type, stock]\n",
      "Index: []\n"
     ]
    }
   ],
   "source": [
    "# if the user opted for option 1\n",
    "i = str(input(\"write the name of the product\"))\n",
    "i = i.lower()\n",
    "a = stock.loc[stock['itemname']==i]\n",
    "print(a) "
   ]
  },
  {
   "cell_type": "code",
   "execution_count": 8,
   "metadata": {},
   "outputs": [
    {
     "name": "stdout",
     "output_type": "stream",
     "text": [
      "  itemname  itemcode item-type  stock\n",
      "0     soap         1    beauty     30\n"
     ]
    }
   ],
   "source": [
    "#if the user opted for option 2\n",
    "print(stock)\n"
   ]
  },
  {
   "cell_type": "code",
   "execution_count": 9,
   "metadata": {},
   "outputs": [
    {
     "name": "stdout",
     "output_type": "stream",
     "text": [
      "---------------------------------\n",
      "|             menu              |\n",
      "|-------------------------------|\n",
      "|1........UPGRADE EXISTING STOCK|\n",
      "|2................ADD A NEW ITEM|\n",
      "|-------------------------------|\n",
      "---------------------------------\n"
     ]
    }
   ],
   "source": [
    "# if the user opted for 3rd option \n",
    "# the sub-list for modifying stock quantity \n",
    "print(\"---------------------------------\")\n",
    "print(\"|             menu              |\")\n",
    "print(\"|-------------------------------|\")\n",
    "print(\"|1........UPGRADE EXISTING STOCK|\")\n",
    "print(\"|2................ADD A NEW ITEM|\") \n",
    "print(\"|-------------------------------|\") \n",
    "print(\"---------------------------------\")\n"
   ]
  },
  {
   "cell_type": "code",
   "execution_count": null,
   "metadata": {},
   "outputs": [],
   "source": [
    "# if the use opted for 1st option \n",
    "itm = str(input('\\n\\n\\nenter model name'))\n",
    "nstk=int(input('\\n\\n\\nenter the stock quantity'))\n",
    "stock.loc[stock.itemname==itm ,'stock']=nstk\n",
    "print(stock)"
   ]
  },
  {
   "cell_type": "code",
   "execution_count": null,
   "metadata": {},
   "outputs": [],
   "source": [
    "#if the user opted for 2nd option\n",
    "while True:\n",
    "    nitem = str(input('\\n\\nenter the porduct name'))\n",
    "    nitemc = int(input('\\n\\nenter the item code'))\n",
    "    nstkq = int(input('\\n\\nenter stock qty'))\n",
    "    nitemtyp = str(input('\\n\\nenter item type'))\n",
    "    b = {'itemname':nitem,'itemcode':nitemc,'item-type':nitemtyp,'stock':nstkq}\n",
    "    stock = stock.append(b ,ignore_index=True)\n",
    "    x=str(input('do you want to add another one? \\n \"y\" for yes \"n\" for no' ))\n",
    "    if x == 'n':\n",
    "        print(stock)\n",
    "        break\n",
    "    else:\n",
    "        print(\"please enter the option only from the above list\")\n",
    "\n",
    "   "
   ]
  },
  {
   "cell_type": "code",
   "execution_count": null,
   "metadata": {},
   "outputs": [],
   "source": []
  },
  {
   "cell_type": "code",
   "execution_count": null,
   "metadata": {},
   "outputs": [],
   "source": []
  },
  {
   "cell_type": "code",
   "execution_count": null,
   "metadata": {},
   "outputs": [],
   "source": []
  }
 ],
 "metadata": {
  "kernelspec": {
   "display_name": "Python 3",
   "language": "python",
   "name": "python3"
  },
  "language_info": {
   "codemirror_mode": {
    "name": "ipython",
    "version": 3
   },
   "file_extension": ".py",
   "mimetype": "text/x-python",
   "name": "python",
   "nbconvert_exporter": "python",
   "pygments_lexer": "ipython3",
   "version": "3.7.9"
  }
 },
 "nbformat": 4,
 "nbformat_minor": 2
}
